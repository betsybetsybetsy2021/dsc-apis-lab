{
 "cells": [
  {
   "cell_type": "markdown",
   "metadata": {},
   "source": [
    "# APIs - Cumulative Lab\n",
    "\n",
    "\n",
    "## Introduction \n",
    "\n",
    "We've seen how the Yelp API works and how to create basic visualizations using Folium. It's time to put those skills to work in order to create a working map! Taking things a step further, you'll also independently explore how to perform pagination in order to retrieve a full results set from the Yelp API.\n",
    "\n",
    "## Objectives\n",
    "\n",
    "You will be able to: \n",
    "\n",
    "* Practice using functions to organize your code\n",
    "* Use pagination to retrieve all results from an API query\n",
    "* Practice parsing data returned from an API query\n",
    "* Practice interpreting visualizations of a dataset\n",
    "* Create maps using Folium"
   ]
  },
  {
   "cell_type": "markdown",
   "metadata": {
    "tags": []
   },
   "source": [
    "## Your Task: Query Yelp for All Businesses in a Category and Analyze the Results\n",
    "\n",
    "![restaurant counter with pizza](images/restaurant_counter.jpg)\n",
    "\n",
    "Photo by <a href=\"https://unsplash.com/@jordanmadrid?utm_source=unsplash&utm_medium=referral&utm_content=creditCopyText\">Jordan Madrid</a> on <a href=\"/s/photos/pizza-restaurant?utm_source=unsplash&utm_medium=referral&utm_content=creditCopyText\">Unsplash</a>"
   ]
  },
  {
   "cell_type": "markdown",
   "metadata": {},
   "source": [
    "### Overview\n",
    "\n",
    "You've now worked with some API calls, but we have yet to see how to retrieve a more complete dataset in a programmatic manner. In this lab, you will write a query of businesses on Yelp, then use *pagination* to retrieve all possible results for that query. Then you will create a summary of your findings, including a Folium map of the geographic locations of those businesses.\n",
    "\n",
    "### Technical Details\n",
    "\n",
    "Returning to the Yelp API, the [documentation](https://www.yelp.com/developers/documentation/v3/business_search) also provides us details regarding the **API limits**. These often include details about the number of requests a user is allowed to make within a specified time limit and the maximum number of results to be returned. In this case, we are told that any request has a **maximum of 50 results per request** and defaults to 20. Furthermore, any search will be limited to a **total of 1000 results**. To retrieve all 1000 of these results, we would have to page through the results piece by piece, retrieving 50 at a time. Processes such as these are often referred to as pagination.\n",
    "\n",
    "Also, be mindful of the **API** ***rate*** **limits**. You can only make **5000 requests per day** and are also can make requests too fast. Start prototyping small before running a loop that could be faulty. You can also use `time.sleep(n)` to add delays. For more details see https://www.yelp.com/developers/documentation/v3/rate_limiting.\n",
    "\n",
    "In this lab, you will define a search and then paginate over the results to retrieve all of the results. You'll then parse these responses as a list of dictionaries (for further exploration) and create a map using Folium to visualize the results geographically.\n",
    "\n",
    "### Requirements\n",
    "\n",
    "#### 1. Make the Initial Request\n",
    "\n",
    "Start by filling in your API key to make the initial request to the business search API. Investigate the structure of the response you get back and start figuring out how you will extract the relevant information.\n",
    "\n",
    "#### 2. Add Pagination\n",
    "\n",
    "Using loops and functions, collect the maximum number of results for your query from the API.\n",
    "\n",
    "#### 3. Perform Exploratory Analysis\n",
    "\n",
    "Interpret visualizations related to the price range, average rating, and number of reviews for all query results.\n",
    "\n",
    "#### 4. Create a Folium Map\n",
    "\n",
    "Using latitude and longitude data, plot the query results on an interactive map."
   ]
  },
  {
   "cell_type": "markdown",
   "metadata": {},
   "source": [
    "## 1. Make the Initial Request\n",
    "\n",
    "### Querying\n",
    "\n",
    "Start by making an initial request to the Yelp API. Your search must include at least 2 parameters: **term** and **location**. For example, you might search for pizza restaurants in NYC. The term and location is up to you but make the request below.\n",
    "\n",
    "Use the `requests` library ([documentation here](https://requests.readthedocs.io/en/master/user/quickstart/#make-a-request)).\n",
    "\n",
    "You'll also need an API key from Yelp. If you haven't done this already, go to the Yelp [Manage App page](https://www.yelp.com/developers/v3/manage_app) and create a new app (after making an account if you haven't already)."
   ]
  },
  {
   "cell_type": "code",
   "execution_count": 2,
   "metadata": {
    "execution": {
     "iopub.execute_input": "2023-05-10T05:03:28.676110Z",
     "iopub.status.busy": "2023-05-10T05:03:28.675725Z",
     "iopub.status.idle": "2023-05-10T05:03:29.632472Z",
     "shell.execute_reply": "2023-05-10T05:03:29.631625Z",
     "shell.execute_reply.started": "2023-05-10T05:03:28.676083Z"
    },
    "tags": []
   },
   "outputs": [
    {
     "data": {
      "text/plain": [
       "<Response [200]>"
      ]
     },
     "execution_count": 2,
     "metadata": {},
     "output_type": "execute_result"
    }
   ],
   "source": [
    "# Replace None with appropriate code\n",
    "\n",
    "# Import the requests library\n",
    "import requests\n",
    "\n",
    "# Get this from the \"Manage App\" page. Make sure you set them\n",
    "# back to None before pushing this to GitHub, since otherwise\n",
    "# your credentials will be compromised\n",
    "api_key = ''\n",
    "# These can be whatever you want! But the solution uses \"pizza\"\n",
    "# and \"New York NY\" if you want to compare your work directly\n",
    "term = 'pizza'\n",
    "location = 'New York NY'\n",
    "\n",
    "# Set up params for request\n",
    "url = \"https://api.yelp.com/v3/businesses/search\"\n",
    "headers = {\n",
    "    \"Authorization\": \"Bearer {}\".format(api_key)\n",
    "}\n",
    "url_params = {\n",
    "    \"term\": term.replace(\" \", \"+\"),\n",
    "    \"location\": location.replace(\" \", \"+\")\n",
    "}\n",
    "\n",
    "# Make the request using requests.get, passing in\n",
    "# url, headers=headers, and params=url_params\n",
    "response = requests.get(url, headers=headers, params = url_params)\n",
    "\n",
    "# Confirm we got a 200 response\n",
    "# Other response codes: {400: Field Required},{400:Validation Required}, {401: UNAUTHORIZED}, {500: Internal Server Error}\n",
    "response"
   ]
  },
  {
   "cell_type": "code",
   "execution_count": 3,
   "metadata": {
    "execution": {
     "iopub.execute_input": "2023-05-10T05:03:38.477360Z",
     "iopub.status.busy": "2023-05-10T05:03:38.476841Z",
     "iopub.status.idle": "2023-05-10T05:03:38.483585Z",
     "shell.execute_reply": "2023-05-10T05:03:38.482531Z",
     "shell.execute_reply.started": "2023-05-10T05:03:38.477328Z"
    },
    "tags": []
   },
   "outputs": [
    {
     "data": {
      "text/plain": [
       "dict_keys(['businesses', 'total', 'region'])"
      ]
     },
     "execution_count": 3,
     "metadata": {},
     "output_type": "execute_result"
    }
   ],
   "source": [
    "# Run this cell without changes\n",
    "\n",
    "# Get the response body in JSON format\n",
    "response_json = response.json()\n",
    "# View the keys\n",
    "response_json.keys()"
   ]
  },
  {
   "cell_type": "markdown",
   "metadata": {},
   "source": [
    "### Extracting Data\n",
    "\n",
    "Now, retrieve the value associated with the `'businesses'` key, and inspect its contents."
   ]
  },
  {
   "cell_type": "code",
   "execution_count": 5,
   "metadata": {
    "execution": {
     "iopub.execute_input": "2023-05-10T05:04:11.547305Z",
     "iopub.status.busy": "2023-05-10T05:04:11.546914Z",
     "iopub.status.idle": "2023-05-10T05:04:11.554414Z",
     "shell.execute_reply": "2023-05-10T05:04:11.553561Z",
     "shell.execute_reply.started": "2023-05-10T05:04:11.547276Z"
    },
    "tags": []
   },
   "outputs": [
    {
     "data": {
      "text/plain": [
       "[{'id': 'zj8Lq1T8KIC5zwFief15jg',\n",
       "  'alias': 'prince-street-pizza-new-york-2',\n",
       "  'name': 'Prince Street Pizza',\n",
       "  'image_url': 'https://s3-media4.fl.yelpcdn.com/bphoto/PfI8oV4ct9ZJZNtUhSS8DQ/o.jpg',\n",
       "  'is_closed': False,\n",
       "  'url': 'https://www.yelp.com/biz/prince-street-pizza-new-york-2?adjust_creative=9R-gjs7ULamYcqSupwJVxg&utm_campaign=yelp_api_v3&utm_medium=api_v3_business_search&utm_source=9R-gjs7ULamYcqSupwJVxg',\n",
       "  'review_count': 4871,\n",
       "  'categories': [{'alias': 'pizza', 'title': 'Pizza'},\n",
       "   {'alias': 'italian', 'title': 'Italian'}],\n",
       "  'rating': 4.5,\n",
       "  'coordinates': {'latitude': 40.72308755605564,\n",
       "   'longitude': -73.99453001177575},\n",
       "  'transactions': ['delivery', 'pickup'],\n",
       "  'price': '$',\n",
       "  'location': {'address1': '27 Prince St',\n",
       "   'address2': None,\n",
       "   'address3': '',\n",
       "   'city': 'New York',\n",
       "   'zip_code': '10012',\n",
       "   'country': 'US',\n",
       "   'state': 'NY',\n",
       "   'display_address': ['27 Prince St', 'New York, NY 10012']},\n",
       "  'phone': '+12129664100',\n",
       "  'display_phone': '(212) 966-4100',\n",
       "  'distance': 2209.3116178604555},\n",
       " {'id': 'ysqgdbSrezXgVwER2kQWKA',\n",
       "  'alias': 'julianas-brooklyn-3',\n",
       "  'name': \"Juliana's\",\n",
       "  'image_url': 'https://s3-media2.fl.yelpcdn.com/bphoto/NVoLFle5H-SHNN6piAKIYw/o.jpg',\n",
       "  'is_closed': False,\n",
       "  'url': 'https://www.yelp.com/biz/julianas-brooklyn-3?adjust_creative=9R-gjs7ULamYcqSupwJVxg&utm_campaign=yelp_api_v3&utm_medium=api_v3_business_search&utm_source=9R-gjs7ULamYcqSupwJVxg',\n",
       "  'review_count': 2636,\n",
       "  'categories': [{'alias': 'pizza', 'title': 'Pizza'}],\n",
       "  'rating': 4.5,\n",
       "  'coordinates': {'latitude': 40.70274718768062,\n",
       "   'longitude': -73.99343490196397},\n",
       "  'transactions': ['delivery'],\n",
       "  'price': '$$',\n",
       "  'location': {'address1': '19 Old Fulton St',\n",
       "   'address2': '',\n",
       "   'address3': '',\n",
       "   'city': 'Brooklyn',\n",
       "   'zip_code': '11201',\n",
       "   'country': 'US',\n",
       "   'state': 'NY',\n",
       "   'display_address': ['19 Old Fulton St', 'Brooklyn, NY 11201']},\n",
       "  'phone': '+17185966700',\n",
       "  'display_phone': '(718) 596-6700',\n",
       "  'distance': 1289.8572856708206}]"
      ]
     },
     "execution_count": 5,
     "metadata": {},
     "output_type": "execute_result"
    }
   ],
   "source": [
    "# Replace None with appropriate code\n",
    "\n",
    "# Retrieve the value from response_json\n",
    "businesses = response.json()['businesses']\n",
    "\n",
    "# View the first 2 records\n",
    "businesses[:2]"
   ]
  },
  {
   "cell_type": "markdown",
   "metadata": {},
   "source": [
    "### Preparing Data\n",
    "\n",
    "Write a function `prepare_data` that takes in a list of dictionaries like `businesses` and returns a copy that has been prepared for analysis:\n",
    "\n",
    "1. The `coordinates` key-value pair has been converted into two separate key-value pairs, `latitude` and `longitude`\n",
    "2. All other key-value pairs except for `name`, `review_count`, `rating`, and `price` have been dropped\n",
    "3. All dictionaries missing one of the relevant keys or containing null values have been dropped\n",
    "\n",
    "In other words, the final keys for each dictionary should be `name`, `review_count`, `rating`, `price`, `latitude`, and `longitude`.\n",
    "\n",
    "Complete the function in the cell below:"
   ]
  },
  {
   "cell_type": "code",
   "execution_count": 6,
   "metadata": {
    "execution": {
     "iopub.execute_input": "2023-05-10T05:04:24.449773Z",
     "iopub.status.busy": "2023-05-10T05:04:24.449395Z",
     "iopub.status.idle": "2023-05-10T05:04:24.466397Z",
     "shell.execute_reply": "2023-05-10T05:04:24.465561Z",
     "shell.execute_reply.started": "2023-05-10T05:04:24.449746Z"
    },
    "tags": []
   },
   "outputs": [
    {
     "data": {
      "text/plain": [
       "[{'name': 'Prince Street Pizza',\n",
       "  'review_count': 4871,\n",
       "  'rating': 4.5,\n",
       "  'price': '$',\n",
       "  'latitude': 40.72308755605564,\n",
       "  'longitude': -73.99453001177575},\n",
       " {'name': \"Juliana's\",\n",
       "  'review_count': 2636,\n",
       "  'rating': 4.5,\n",
       "  'price': '$$',\n",
       "  'latitude': 40.70274718768062,\n",
       "  'longitude': -73.99343490196397},\n",
       " {'name': 'Rubirosa',\n",
       "  'review_count': 2992,\n",
       "  'rating': 4.5,\n",
       "  'price': '$$',\n",
       "  'latitude': 40.722766,\n",
       "  'longitude': -73.996233},\n",
       " {'name': \"Joe's Pizza\",\n",
       "  'review_count': 3000,\n",
       "  'rating': 4.0,\n",
       "  'price': '$',\n",
       "  'latitude': 40.73060076,\n",
       "  'longitude': -74.00215997},\n",
       " {'name': \"Lombardi's Pizza\",\n",
       "  'review_count': 6563,\n",
       "  'rating': 4.0,\n",
       "  'price': '$$',\n",
       "  'latitude': 40.7215934960083,\n",
       "  'longitude': -73.9955956044561}]"
      ]
     },
     "execution_count": 6,
     "metadata": {},
     "output_type": "execute_result"
    }
   ],
   "source": [
    "# Replace None with appropriate code\n",
    "\n",
    "def prepare_data(data_list):\n",
    "    \"\"\"\n",
    "    This function takes in a list of dictionaries and prepares it\n",
    "    for analysis\n",
    "    \"\"\"\n",
    "    \n",
    "    # Make a new list to hold results\n",
    "    results = []\n",
    "    \n",
    "    for business_data in data_list:\n",
    "    \n",
    "        # Make a new dictionary to hold prepared data for this business\n",
    "        prepared_data = {}\n",
    "        old_keys = ['name', 'review_count', 'rating', 'price']\n",
    "        new_keys = []\n",
    "        # Extract name, review_count, rating, and price key-value pairs\n",
    "        # from business_data and add to prepared_data\n",
    "        # If a key is not present in business_data, add it to prepared_data\n",
    "        # with an associated value of None\n",
    "        for key in old_keys:\n",
    "            if key in new_keys:\n",
    "                continue\n",
    "            else:\n",
    "                prepared_data[key] = None\n",
    "                if key in business_data.keys():\n",
    "                    prepared_data[key] = business_data[key]\n",
    "    \n",
    "        # Parse and add latitude and longitude columns\n",
    "        if 'coordinates' in business_data.keys():\n",
    "            latitude = business_data['coordinates']['latitude']\n",
    "            longitude = business_data['coordinates']['longitude']\n",
    "            prepared_data['latitude'] = latitude\n",
    "            prepared_data['longitude'] = longitude\n",
    "        \n",
    "        # Add to list if all values are present\n",
    "        if all(prepared_data.values()):\n",
    "            results.append(prepared_data)\n",
    "    \n",
    "    return results\n",
    "    \n",
    "# Test out function\n",
    "prepared_businesses = prepare_data(businesses)\n",
    "prepared_businesses[:5]"
   ]
  },
  {
   "cell_type": "markdown",
   "metadata": {},
   "source": [
    "Check that your function created the correct keys:"
   ]
  },
  {
   "cell_type": "code",
   "execution_count": 7,
   "metadata": {
    "execution": {
     "iopub.execute_input": "2023-05-10T05:04:33.659620Z",
     "iopub.status.busy": "2023-05-10T05:04:33.659185Z",
     "iopub.status.idle": "2023-05-10T05:04:33.664811Z",
     "shell.execute_reply": "2023-05-10T05:04:33.663941Z",
     "shell.execute_reply.started": "2023-05-10T05:04:33.659581Z"
    },
    "tags": []
   },
   "outputs": [],
   "source": [
    "# Run this cell without changes\n",
    "\n",
    "assert sorted(list(prepared_businesses[0].keys())) == ['latitude', 'longitude', 'name', 'price', 'rating', 'review_count']"
   ]
  },
  {
   "cell_type": "markdown",
   "metadata": {},
   "source": [
    "The following code will differ depending on your query, but we expect there to be 20 businesses in the original list, and potentially fewer in the prepared list (if any of them were missing data):"
   ]
  },
  {
   "cell_type": "code",
   "execution_count": 8,
   "metadata": {
    "execution": {
     "iopub.execute_input": "2023-05-10T05:04:38.052729Z",
     "iopub.status.busy": "2023-05-10T05:04:38.052336Z",
     "iopub.status.idle": "2023-05-10T05:04:38.057489Z",
     "shell.execute_reply": "2023-05-10T05:04:38.056670Z",
     "shell.execute_reply.started": "2023-05-10T05:04:38.052700Z"
    },
    "tags": []
   },
   "outputs": [
    {
     "name": "stdout",
     "output_type": "stream",
     "text": [
      "Original: 20\n",
      "Prepared: 20\n"
     ]
    }
   ],
   "source": [
    "# Run this cell without changes\n",
    "print(\"Original:\", len(businesses))\n",
    "print(\"Prepared:\", len(prepared_businesses))"
   ]
  },
  {
   "cell_type": "markdown",
   "metadata": {},
   "source": [
    "Great! We will reuse this function once we have retrieved the full dataset."
   ]
  },
  {
   "cell_type": "markdown",
   "metadata": {},
   "source": [
    "## 2. Add Pagination\n",
    "\n",
    "Now that you are able to extract information from one page of the response, let's figure out how to request as many pages as possible.\n",
    "\n",
    "### Determining the Total\n",
    "\n",
    "Depending on the number of total results for your query, you will either retrieve all of the results, or just the first 1000 (if there are more than 1000 total).\n",
    "\n",
    "We can find the total number of results using the `\"total\"` key:"
   ]
  },
  {
   "cell_type": "code",
   "execution_count": 9,
   "metadata": {
    "execution": {
     "iopub.execute_input": "2023-05-10T05:04:52.416452Z",
     "iopub.status.busy": "2023-05-10T05:04:52.416082Z",
     "iopub.status.idle": "2023-05-10T05:04:52.421590Z",
     "shell.execute_reply": "2023-05-10T05:04:52.420779Z",
     "shell.execute_reply.started": "2023-05-10T05:04:52.416426Z"
    },
    "tags": []
   },
   "outputs": [
    {
     "data": {
      "text/plain": [
       "16300"
      ]
     },
     "execution_count": 9,
     "metadata": {},
     "output_type": "execute_result"
    }
   ],
   "source": [
    "# Run this cell without changes\n",
    "response_json[\"total\"]"
   ]
  },
  {
   "cell_type": "markdown",
   "metadata": {},
   "source": [
    "(This is specific to the implementation of the Yelp API. Some APIs will just tell you that there are more pages, or will tell you the number of pages total, rather than the total number of results. If you're not sure, always check the documentation.)\n",
    "\n",
    "In the cell below, assign the variable `total` to either the value shown above (if it is less than 1000), or 1000."
   ]
  },
  {
   "cell_type": "code",
   "execution_count": 10,
   "metadata": {
    "execution": {
     "iopub.execute_input": "2023-05-10T05:04:55.982712Z",
     "iopub.status.busy": "2023-05-10T05:04:55.982334Z",
     "iopub.status.idle": "2023-05-10T05:04:55.986414Z",
     "shell.execute_reply": "2023-05-10T05:04:55.985461Z",
     "shell.execute_reply.started": "2023-05-10T05:04:55.982683Z"
    },
    "tags": []
   },
   "outputs": [],
   "source": [
    "# Replace None with appropriate code\n",
    "total = 1000"
   ]
  },
  {
   "cell_type": "markdown",
   "metadata": {},
   "source": [
    "### Calculating the Offsets\n",
    "\n",
    "The documentation states in the parameters section:\n",
    "\n",
    "> **Name**: `limit`, **Type:** int, **Description:** Optional. Number of business results to return. By default, it will return 20. Maximum is 50.\n",
    "\n",
    "> **Name**: `offset`, **Type:** int, **Description:** Optional. Offset the list of returned business results by this amount.\n",
    "\n",
    "So, to get the most results with the fewest API calls we want to set a limit of 50 every time. If, say, we wanted to get 210 total results, that would mean:\n",
    "\n",
    "1. Offset of `0` (first 50 records)\n",
    "2. Offset of `50` (second 50 records)\n",
    "3. Offset of `100` (third 50 records)\n",
    "4. Offset of `150` (fourth 50 records)\n",
    "5. Offset of `200` (final 10 records)\n",
    "\n",
    "In the cell below, create a function `get_offsets` that takes in a total and returns a list of offsets for that total. You can assume that there is a limit of 50 every time.\n",
    "\n",
    "*Hint: you can use `range` ([documentation here](https://docs.python.org/3.3/library/stdtypes.html?highlight=range#range)) to do this in one line of code. Just make the returned result is a list.*"
   ]
  },
  {
   "cell_type": "code",
   "execution_count": 11,
   "metadata": {
    "execution": {
     "iopub.execute_input": "2023-05-10T05:05:04.111289Z",
     "iopub.status.busy": "2023-05-10T05:05:04.110732Z",
     "iopub.status.idle": "2023-05-10T05:05:04.115240Z",
     "shell.execute_reply": "2023-05-10T05:05:04.114390Z",
     "shell.execute_reply.started": "2023-05-10T05:05:04.111256Z"
    },
    "tags": []
   },
   "outputs": [],
   "source": [
    "# Replace None with appropriate code\n",
    "def get_offsets(total):\n",
    "    \"\"\"\n",
    "    Get a list of offsets needed to get all pages\n",
    "    of data up until the total\n",
    "    \"\"\"\n",
    "    offsets = list(range(0, total, 50))\n",
    "    \n",
    "    return offsets"
   ]
  },
  {
   "cell_type": "markdown",
   "metadata": {},
   "source": [
    "Check that your function works below:"
   ]
  },
  {
   "cell_type": "code",
   "execution_count": 12,
   "metadata": {
    "execution": {
     "iopub.execute_input": "2023-05-10T05:05:07.273376Z",
     "iopub.status.busy": "2023-05-10T05:05:07.272982Z",
     "iopub.status.idle": "2023-05-10T05:05:07.281108Z",
     "shell.execute_reply": "2023-05-10T05:05:07.280079Z",
     "shell.execute_reply.started": "2023-05-10T05:05:07.273341Z"
    },
    "tags": []
   },
   "outputs": [],
   "source": [
    "# Run this cell without changes\n",
    "\n",
    "assert get_offsets(200) == [0, 50, 100, 150]\n",
    "assert get_offsets(210) == [0, 50, 100, 150, 200]hDbjdKUfyzFAkUO6kfLn7pC21YFU_17V73rfJjqy5EE73exf1zbYce_dx6L56vKlo_ykxQldd7cjODOhVQ0L3RpLRJQrJ348xALcTuHcLGJGY0VbHs3OooNDfM5aZHYx"
   ]
  },
  {
   "cell_type": "markdown",
   "metadata": {},
   "source": [
    "### Putting It All Together\n",
    "\n",
    "Recall that the following variable has already been declared for you:"
   ]
  },
  {
   "cell_type": "code",
   "execution_count": 13,
   "metadata": {
    "execution": {
     "iopub.execute_input": "2023-05-10T05:05:17.364039Z",
     "iopub.status.busy": "2023-05-10T05:05:17.363638Z",
     "iopub.status.idle": "2023-05-10T05:05:17.369037Z",
     "shell.execute_reply": "2023-05-10T05:05:17.368158Z",
     "shell.execute_reply.started": "2023-05-10T05:05:17.364010Z"
    },
    "tags": []
   },
   "outputs": [
    {
     "data": {
      "text/plain": [
       "{'term': 'pizza', 'location': 'New+York+NY'}"
      ]
     },
     "execution_count": 13,
     "metadata": {},
     "output_type": "execute_result"
    }
   ],
   "source": [
    "# Run this cell without changes\n",
    "url_params"
   ]
  },
  {
   "cell_type": "markdown",
   "metadata": {},
   "source": [
    "We'll go ahead and also specify that the limit should be 50 every time:"
   ]
  },
  {
   "cell_type": "code",
   "execution_count": 14,
   "metadata": {
    "execution": {
     "iopub.execute_input": "2023-05-10T05:05:21.371388Z",
     "iopub.status.busy": "2023-05-10T05:05:21.370535Z",
     "iopub.status.idle": "2023-05-10T05:05:21.375480Z",
     "shell.execute_reply": "2023-05-10T05:05:21.374510Z",
     "shell.execute_reply.started": "2023-05-10T05:05:21.371348Z"
    },
    "tags": []
   },
   "outputs": [],
   "source": [
    "# Run this cell without changes\n",
    "url_params[\"limit\"] = 50"
   ]
  },
  {
   "cell_type": "markdown",
   "metadata": {},
   "source": [
    "In order to modify the offset, you'll need to add it to `url_params` with the key `\"offset\"` and whatever value is needed.\n",
    "\n",
    "In the cell below, write code that:\n",
    "\n",
    "* Creates an empty list for the full prepared dataset\n",
    "* Loops over all of the offsets from `get_offsets` and makes an API call each time with the specified offset\n",
    "* Calls `prepare_data` to get a cleaned version of the result of each API call\n",
    "* Extends the full prepared dataset list with each query's prepared dataset"
   ]
  },
  {
   "cell_type": "code",
   "execution_count": 15,
   "metadata": {
    "execution": {
     "iopub.execute_input": "2023-05-10T05:05:30.012076Z",
     "iopub.status.busy": "2023-05-10T05:05:30.011707Z",
     "iopub.status.idle": "2023-05-10T05:05:53.156425Z",
     "shell.execute_reply": "2023-05-10T05:05:53.155769Z",
     "shell.execute_reply.started": "2023-05-10T05:05:30.012050Z"
    },
    "tags": []
   },
   "outputs": [
    {
     "data": {
      "text/plain": [
       "302"
      ]
     },
     "execution_count": 15,
     "metadata": {},
     "output_type": "execute_result"
    }
   ],
   "source": [
    "# Replace None with appropriate code\n",
    "\n",
    "# Create an empty list for the full prepared dataset\n",
    "full_dataset = []\n",
    "\n",
    "for offset in get_offsets(total):\n",
    "    # Add or update the \"offset\" key-value pair in url_params\n",
    "    url_params = {\n",
    "    \"term\": term.replace(\" \", \"+\"),\n",
    "    \"location\": location.replace(\" \", \"+\"),\n",
    "    \"offset\": offset\n",
    "    }\n",
    "    \n",
    "    # Make the query and get the response\n",
    "    response = requests.get(url, headers=headers, params=url_params)\n",
    "    \n",
    "    # Get the response body in JSON format\n",
    "    response_json = response.json()\n",
    "    \n",
    "    # Get the list of businesses from the response_json\n",
    "    businesses = response.json()['businesses']\n",
    "    \n",
    "    # Call the prepare_data function to get a list of processed data\n",
    "    prepared_businesses = prepare_data(businesses)\n",
    "    \n",
    "    # Extend full_dataset with this list (don't append, or you'll get\n",
    "    # a list of lists instead of a flat list)\n",
    "    full_dataset.extend(prepared_businesses)\n",
    "\n",
    "# Check the length of the full dataset. It will be up to `total`,\n",
    "# potentially less if there were missing values\n",
    "len(full_dataset)"
   ]
  },
  {
   "cell_type": "markdown",
   "metadata": {},
   "source": [
    "This code may take up to a few minutes to run.\n",
    "\n",
    "If you get an error trying to get the response body in JSON format, try adding `time.sleep(1)` right after the `requests.get` line, so your code will sleep for 1 second between each API call."
   ]
  },
  {
   "cell_type": "markdown",
   "metadata": {},
   "source": [
    "## 3. Perform Exploratory Analysis\n",
    "\n",
    "Take the businesses from the previous question and do an initial exploratory analysis. We have provided some plots for you to interpret:"
   ]
  },
  {
   "cell_type": "code",
   "execution_count": 16,
   "metadata": {
    "execution": {
     "iopub.execute_input": "2023-05-10T05:05:54.110620Z",
     "iopub.status.busy": "2023-05-10T05:05:54.110046Z",
     "iopub.status.idle": "2023-05-10T05:05:55.989063Z",
     "shell.execute_reply": "2023-05-10T05:05:55.988208Z",
     "shell.execute_reply.started": "2023-05-10T05:05:54.110591Z"
    },
    "tags": []
   },
   "outputs": [
    {
     "data": {
      "image/png": "[encoded data removed]",
      "text/plain": [
       "<Figure size 1600x500 with 3 Axes>"
      ]
     },
     "metadata": {},
     "output_type": "display_data"
    }
   ],
   "source": [
    "# Run this cell without changes\n",
    "from collections import Counter\n",
    "import matplotlib.pyplot as plt\n",
    "%matplotlib inline\n",
    "\n",
    "fig, (ax1, ax2, ax3) = plt.subplots(ncols=3, figsize=(16, 5))\n",
    "\n",
    "# Plot distribution of number of reviews\n",
    "all_review_counts = [x[\"review_count\"] for x in full_dataset]\n",
    "ax1.hist(all_review_counts)\n",
    "ax1.set_title(\"Review Count Distribution\")\n",
    "ax1.set_xlabel(\"Number of Reviews\")\n",
    "ax1.set_ylabel(\"Number of Businesses\")\n",
    "\n",
    "# Plot rating distribution\n",
    "all_ratings = [x[\"rating\"] for x in full_dataset]\n",
    "rating_counter = Counter(all_ratings)\n",
    "rating_keys = sorted(rating_counter.keys())\n",
    "ax2.bar(rating_keys, [rating_counter[key] for key in rating_keys])\n",
    "ax2.set_title(\"Rating Distribution\")\n",
    "ax2.set_xlabel(\"Rating\")\n",
    "ax2.set_ylabel(\"Number of Businesses\")\n",
    "\n",
    "# Plot price distribution\n",
    "all_prices = [x[\"price\"].replace(\"$\", r\"\\$\") for x in full_dataset]\n",
    "price_counter = Counter(all_prices)\n",
    "price_keys = sorted(price_counter.keys())\n",
    "ax3.bar(price_keys, [price_counter[key] for key in price_keys])\n",
    "ax3.set_title(\"Price Distribution\")\n",
    "ax3.set_xlabel(\"Price Category\")\n",
    "ax3.set_ylabel(\"Number of Businesses\");"
   ]
  },
  {
   "cell_type": "markdown",
   "metadata": {},
   "source": [
    "Describe the distributions displayed above and interpret them in the context of your query. (Your answer may differ from the solution branch depending on your query.)"
   ]
  },
  {
   "cell_type": "code",
   "execution_count": null,
   "metadata": {},
   "outputs": [],
   "source": [
    "# Replace None with appropriate text\n",
    "\"\"\"\n",
    "This query to the API used the suggested \"pizza\" term and \"NYC\" location for the query.  Even in NYC, most businesses have fewer than 500 reviews on Yelp but\n",
    "some had as many as 5,500 to 6,000.  Ratings were nearly normally distributed for the businesses, with a solid score of 4.0 being the most common. Most of the\n",
    "pizza restaurants in NYC were in the \"$\" and \"$$\" categories, which is as expected as most pizza parlors are inexpensive, but certainly not all resturants that\n",
    "pizza will be inexpensive.\n",
    "\"\"\""
   ]
  },
  {
   "cell_type": "markdown",
   "metadata": {},
   "source": [
    "In the cell below, we also plot the rating distributions by price. In this setup, a price of one dollar sign is \"lower price\" and everything else is \"higher price\"."
   ]
  },
  {
   "cell_type": "code",
   "execution_count": 17,
   "metadata": {
    "execution": {
     "iopub.execute_input": "2023-05-10T05:06:08.341766Z",
     "iopub.status.busy": "2023-05-10T05:06:08.341272Z",
     "iopub.status.idle": "2023-05-10T05:06:08.576640Z",
     "shell.execute_reply": "2023-05-10T05:06:08.575724Z",
     "shell.execute_reply.started": "2023-05-10T05:06:08.341736Z"
    },
    "tags": []
   },
   "outputs": [
    {
     "data": {
      "image/png": "[encoded data removed]",
      "text/plain": [
       "<Figure size 640x480 with 1 Axes>"
      ]
     },
     "metadata": {},
     "output_type": "display_data"
    }
   ],
   "source": [
    "# Run this cell without changes\n",
    "\n",
    "higher_price = []\n",
    "lower_price = []\n",
    "for row in full_dataset:\n",
    "    if row[\"price\"] == \"$\":\n",
    "        lower_price.append(row[\"rating\"])\n",
    "    else:\n",
    "        higher_price.append(row[\"rating\"])\n",
    "        \n",
    "fig, ax = plt.subplots()\n",
    "\n",
    "ax.hist([higher_price, lower_price], label=[\"higher price\", \"lower price\"], density=True)\n",
    "\n",
    "ax.legend();"
   ]
  },
  {
   "cell_type": "markdown",
   "metadata": {},
   "source": [
    "Is a higher price associated with a higher rating? (No need for any additional math/statistics, just interpret what you see in the plot.)"
   ]
  },
  {
   "cell_type": "code",
   "execution_count": null,
   "metadata": {},
   "outputs": [],
   "source": [
    "# Replace None with appropriate text\n",
    "\"\"\"\n",
    "Withoout axis labels, I find it a bit difficult to interpret this data.  The x-axis clearly still represents the rating values, but the y-axis no longer has an\n",
    "upper limit in the hundreds that corresponds to number of businesses.  But the distribution itself shows that lower ratings categories consisted primarily\n",
    "low-price restaurants, and higher-price restaurants were distributed more across the higher ratings.\n",
    "\"\"\""
   ]
  },
  {
   "cell_type": "markdown",
   "metadata": {},
   "source": [
    "Finally, let's look at ratings vs. review counts:"
   ]
  },
  {
   "cell_type": "code",
   "execution_count": 18,
   "metadata": {
    "execution": {
     "iopub.execute_input": "2023-05-10T05:06:17.829371Z",
     "iopub.status.busy": "2023-05-10T05:06:17.828987Z",
     "iopub.status.idle": "2023-05-10T05:06:17.972291Z",
     "shell.execute_reply": "2023-05-10T05:06:17.971314Z",
     "shell.execute_reply.started": "2023-05-10T05:06:17.829344Z"
    },
    "tags": []
   },
   "outputs": [
    {
     "data": {
      "image/png": "[encoded data removed]",
      "text/plain": [
       "<Figure size 1600x500 with 1 Axes>"
      ]
     },
     "metadata": {},
     "output_type": "display_data"
    }
   ],
   "source": [
    "# Run this cell without changes\n",
    "fig, ax = plt.subplots(figsize=(16,5))\n",
    "\n",
    "ax.scatter(all_review_counts, all_ratings, alpha=0.2)\n",
    "ax.set_xlabel(\"Number of Reviews\")\n",
    "ax.set_ylabel(\"Rating\")\n",
    "# \"zoom in\" to a subset of review counts\n",
    "ax.set_xlim(left=0, right=1000);"
   ]
  },
  {
   "cell_type": "markdown",
   "metadata": {},
   "source": [
    "Is a higher number of reviews associated with a higher rating?"
   ]
  },
  {
   "cell_type": "code",
   "execution_count": null,
   "metadata": {},
   "outputs": [],
   "source": [
    "# Replace None with appropriate text\n",
    "\"\"\"\n",
    "While we did not calculate the correlation, the number of reviews does have a positive correlation to ratings. The set of businesses with ratings of 3.0 \n",
    "or less did not receive more than 400 reviews each.  However, for numbers of reviews greater than 400, the distribution of ratings seemed fairly consisted between 3.5 \n",
    "and 4.5.\n",
    "\"\"\""
   ]
  },
  {
   "cell_type": "markdown",
   "metadata": {},
   "source": [
    "## 4. Create a Folium Map\n",
    "\n",
    "Make a map using Folium of the businesses you retrieved. Be sure to also add popups to the markers giving some basic information such as name, rating and price.\n",
    "\n",
    "You can center the map around the latitude and longitude of the first item in `full_dataset`."
   ]
  },
  {
   "cell_type": "code",
   "execution_count": 23,
   "metadata": {
    "execution": {
     "iopub.execute_input": "2023-05-10T05:12:41.713468Z",
     "iopub.status.busy": "2023-05-10T05:12:41.713097Z",
     "iopub.status.idle": "2023-05-10T05:12:41.776118Z",
     "shell.execute_reply": "2023-05-10T05:12:41.775430Z",
     "shell.execute_reply.started": "2023-05-10T05:12:41.713441Z"
    },
    "tags": []
   },
   "outputs": [
    {
     "data": {
      "text/html": [
       "<div style=\"width:100%;\"><div style=\"position:relative;width:100%;height:0;padding-bottom:60%;\"><span style=\"color:#565656\">Make this Notebook Trusted to load map: File -> Trust Notebook</span><iframe srcdoc=\"&lt;!DOCTYPE html&gt;\n",
       "&lt;html&gt;\n",
       "&lt;head&gt;\n",
       "    \n",
       "    &lt;meta http-equiv=&quot;content-type&quot; content=&quot;text/html; charset=UTF-8&quot; /&gt;\n",
       "    \n",
       "        &lt;script&gt;\n",
       "            L_NO_TOUCH = false;\n",
       "            L_DISABLE_3D = false;\n",
       "        &lt;/script&gt;\n",
       "    \n",
       "    &lt;style&gt;html, body {width: 100%;height: 100%;margin: 0;padding: 0;}&lt;/style&gt;\n",
       "    &lt;style&gt;#map {position:absolute;top:0;bottom:0;right:0;left:0;}&lt;/style&gt;\n",
       "    &lt;script src=&quot;https://cdn.jsdelivr.net/npm/leaflet@1.9.3/dist/leaflet.js&quot;&gt;&lt;/script&gt;\n",
       "    &lt;script src=&quot;https://code.jquery.com/jquery-1.12.4.min.js&quot;&gt;&lt;/script&gt;\n",
       "    &lt;script src=&quot;https://cdn.jsdelivr.net/npm/bootstrap@5.2.2/dist/js/bootstrap.bundle.min.js&quot;&gt;&lt;/script&gt;\n",
       "    &lt;script src=&quot;https://cdnjs.cloudflare.com/ajax/libs/Leaflet.awesome-markers/2.0.2/leaflet.awesome-markers.js&quot;&gt;&lt;/script&gt;\n",
       "    &lt;link rel=&quot;stylesheet&quot; href=&quot;https://cdn.jsdelivr.net/npm/leaflet@1.9.3/dist/leaflet.css&quot;/&gt;\n",
       "    &lt;link rel=&quot;stylesheet&quot; href=&quot;https://cdn.jsdelivr.net/npm/bootstrap@5.2.2/dist/css/bootstrap.min.css&quot;/&gt;\n",
       "    &lt;link rel=&quot;stylesheet&quot; href=&quot;https://netdna.bootstrapcdn.com/bootstrap/3.0.0/css/bootstrap.min.css&quot;/&gt;\n",
       "    &lt;link rel=&quot;stylesheet&quot; href=&quot;https://cdn.jsdelivr.net/npm/@fortawesome/fontawesome-free@6.2.0/css/all.min.css&quot;/&gt;\n",
       "    &lt;link rel=&quot;stylesheet&quot; href=&quot;https://cdnjs.cloudflare.com/ajax/libs/Leaflet.awesome-markers/2.0.2/leaflet.awesome-markers.css&quot;/&gt;\n",
       "    &lt;link rel=&quot;stylesheet&quot; href=&quot;https://cdn.jsdelivr.net/gh/python-visualization/folium/folium/templates/leaflet.awesome.rotate.min.css&quot;/&gt;\n",
       "    \n",
       "            &lt;meta name=&quot;viewport&quot; content=&quot;width=device-width,\n",
       "                initial-scale=1.0, maximum-scale=1.0, user-scalable=no&quot; /&gt;\n",
       "            &lt;style&gt;\n",
       "                #map_1e8be83107bf5d8ab5bfbd396b5addcc {\n",
       "                    position: relative;\n",
       "                    width: 100.0%;\n",
       "                    height: 100.0%;\n",
       "                    left: 0.0%;\n",
       "                    top: 0.0%;\n",
       "                }\n",
       "                .leaflet-container { font-size: 1rem; }\n",
       "            &lt;/style&gt;\n",
       "        \n",
       "&lt;/head&gt;\n",
       "&lt;body&gt;\n",
       "    \n",
       "    \n",
       "            &lt;div class=&quot;folium-map&quot; id=&quot;map_1e8be83107bf5d8ab5bfbd396b5addcc&quot; &gt;&lt;/div&gt;\n",
       "        \n",
       "&lt;/body&gt;\n",
       "&lt;script&gt;\n",
       "    \n",
       "    \n",
       "            var map_1e8be83107bf5d8ab5bfbd396b5addcc = L.map(\n",
       "                &quot;map_1e8be83107bf5d8ab5bfbd396b5addcc&quot;,\n",
       "                {\n",
       "                    center: [40.72308755605564, -73.99453001177575],\n",
       "                    crs: L.CRS.EPSG3857,\n",
       "                    zoom: 13,\n",
       "                    zoomControl: true,\n",
       "                    preferCanvas: false,\n",
       "                }\n",
       "            );\n",
       "\n",
       "            \n",
       "\n",
       "        \n",
       "    \n",
       "            var tile_layer_3afd3d6a44949e0a58bc98ed61d6ea04 = L.tileLayer(\n",
       "                &quot;https://{s}.tile.openstreetmap.org/{z}/{x}/{y}.png&quot;,\n",
       "                {&quot;attribution&quot;: &quot;Data by \\u0026copy; \\u003ca target=\\&quot;_blank\\&quot; href=\\&quot;http://openstreetmap.org\\&quot;\\u003eOpenStreetMap\\u003c/a\\u003e, under \\u003ca target=\\&quot;_blank\\&quot; href=\\&quot;http://www.openstreetmap.org/copyright\\&quot;\\u003eODbL\\u003c/a\\u003e.&quot;, &quot;detectRetina&quot;: false, &quot;maxNativeZoom&quot;: 18, &quot;maxZoom&quot;: 18, &quot;minZoom&quot;: 0, &quot;noWrap&quot;: false, &quot;opacity&quot;: 1, &quot;subdomains&quot;: &quot;abc&quot;, &quot;tms&quot;: false}\n",
       "            ).addTo(map_1e8be83107bf5d8ab5bfbd396b5addcc);\n",
       "        \n",
       "    \n",
       "            var marker_f2b5f8c6b02157960882904cf3fb42c6 = L.marker(\n",
       "                [40.72308755605564, -73.99453001177575],\n",
       "                {}\n",
       "            ).addTo(map_1e8be83107bf5d8ab5bfbd396b5addcc);\n",
       "        \n",
       "    \n",
       "            var marker_4d29835a4a7f51695cbb2b3e7554ed33 = L.marker(\n",
       "                [40.70274718768062, -73.99343490196397],\n",
       "                {}\n",
       "            ).addTo(map_1e8be83107bf5d8ab5bfbd396b5addcc);\n",
       "        \n",
       "    \n",
       "            var marker_1fd9ff969c58ce6a9817cb1913aca7c1 = L.marker(\n",
       "                [40.722766, -73.996233],\n",
       "                {}\n",
       "            ).addTo(map_1e8be83107bf5d8ab5bfbd396b5addcc);\n",
       "        \n",
       "    \n",
       "            var marker_8bfef30d32b022460d1bbd33966d8250 = L.marker(\n",
       "                [40.73060076, -74.00215997],\n",
       "                {}\n",
       "            ).addTo(map_1e8be83107bf5d8ab5bfbd396b5addcc);\n",
       "        \n",
       "    \n",
       "            var marker_bf1309fa7faf8a08784206e8f66099ed = L.marker(\n",
       "                [40.7215934960083, -73.9955956044561],\n",
       "                {}\n",
       "            ).addTo(map_1e8be83107bf5d8ab5bfbd396b5addcc);\n",
       "        \n",
       "    \n",
       "            var marker_2af487cceba795bc73295c9094723008 = L.marker(\n",
       "                [40.71162, -73.95783],\n",
       "                {}\n",
       "            ).addTo(map_1e8be83107bf5d8ab5bfbd396b5addcc);\n",
       "        \n",
       "    \n",
       "            var marker_d054244a02ed064eb4737360c8b4b8b5 = L.marker(\n",
       "                [40.7547, -73.98696],\n",
       "                {}\n",
       "            ).addTo(map_1e8be83107bf5d8ab5bfbd396b5addcc);\n",
       "        \n",
       "    \n",
       "            var marker_7e678e0fa39c4a908eba05b22a2940c7 = L.marker(\n",
       "                [40.73331, -73.98763],\n",
       "                {}\n",
       "            ).addTo(map_1e8be83107bf5d8ab5bfbd396b5addcc);\n",
       "        \n",
       "    \n",
       "            var marker_e779261aa93bd2f17786d6bb3d371837 = L.marker(\n",
       "                [40.7168952, -73.95892996733771],\n",
       "                {}\n",
       "            ).addTo(map_1e8be83107bf5d8ab5bfbd396b5addcc);\n",
       "        \n",
       "    \n",
       "            var marker_bce075e966a780d4acf6477457c6fb0f = L.marker(\n",
       "                [40.7026459, -73.9932413],\n",
       "                {}\n",
       "            ).addTo(map_1e8be83107bf5d8ab5bfbd396b5addcc);\n",
       "        \n",
       "    \n",
       "            var marker_3a835cd33c04e0551eccd2206f445edf = L.marker(\n",
       "                [40.7101297729083, -74.0077206864953],\n",
       "                {}\n",
       "            ).addTo(map_1e8be83107bf5d8ab5bfbd396b5addcc);\n",
       "        \n",
       "    \n",
       "            var marker_e70b389b6b720e44485e7267510d78f7 = L.marker(\n",
       "                [40.681840746711224, -74.0003327],\n",
       "                {}\n",
       "            ).addTo(map_1e8be83107bf5d8ab5bfbd396b5addcc);\n",
       "        \n",
       "    \n",
       "            var marker_6d8b81f5d499cbd9651d2ea98ba7b3dc = L.marker(\n",
       "                [40.73158, -74.00332],\n",
       "                {}\n",
       "            ).addTo(map_1e8be83107bf5d8ab5bfbd396b5addcc);\n",
       "        \n",
       "    \n",
       "            var marker_ff17ad10c4f45137f44bad5bb478c2eb = L.marker(\n",
       "                [40.76458, -73.98247],\n",
       "                {}\n",
       "            ).addTo(map_1e8be83107bf5d8ab5bfbd396b5addcc);\n",
       "        \n",
       "    \n",
       "            var marker_a1e69a45dad2683384a23590445bf2a7 = L.marker(\n",
       "                [40.733798036104304, -73.99977392649927],\n",
       "                {}\n",
       "            ).addTo(map_1e8be83107bf5d8ab5bfbd396b5addcc);\n",
       "        \n",
       "    \n",
       "            var marker_a3125c29eca258cc3c35e85e2c97a567 = L.marker(\n",
       "                [40.70493, -73.93399],\n",
       "                {}\n",
       "            ).addTo(map_1e8be83107bf5d8ab5bfbd396b5addcc);\n",
       "        \n",
       "    \n",
       "            var marker_e9d8047b0442c46857b1ca14c82523b3 = L.marker(\n",
       "                [40.729546, -73.958568],\n",
       "                {}\n",
       "            ).addTo(map_1e8be83107bf5d8ab5bfbd396b5addcc);\n",
       "        \n",
       "    \n",
       "            var marker_1fc5b3d2c0060261030d7d7898dbbec0 = L.marker(\n",
       "                [40.71958, -73.99734],\n",
       "                {}\n",
       "            ).addTo(map_1e8be83107bf5d8ab5bfbd396b5addcc);\n",
       "        \n",
       "    \n",
       "            var marker_1fad86ddb2aedb8a1f671372eb285910 = L.marker(\n",
       "                [40.7320627016512, -74.0036552270137],\n",
       "                {}\n",
       "            ).addTo(map_1e8be83107bf5d8ab5bfbd396b5addcc);\n",
       "        \n",
       "    \n",
       "            var marker_1b35b3968884b1c5f84efcbaaa052906 = L.marker(\n",
       "                [40.7321124557704, -73.9839056828882],\n",
       "                {}\n",
       "            ).addTo(map_1e8be83107bf5d8ab5bfbd396b5addcc);\n",
       "        \n",
       "    \n",
       "            var marker_54ef6f06dd31d7f6cc802692286d2bb4 = L.marker(\n",
       "                [40.73398, -73.98961],\n",
       "                {}\n",
       "            ).addTo(map_1e8be83107bf5d8ab5bfbd396b5addcc);\n",
       "        \n",
       "    \n",
       "            var marker_3dad7dcb0a150800e871d625c128ba65 = L.marker(\n",
       "                [40.72836, -73.9572],\n",
       "                {}\n",
       "            ).addTo(map_1e8be83107bf5d8ab5bfbd396b5addcc);\n",
       "        \n",
       "    \n",
       "            var marker_bfefa32163995553587baa9e4ae8d89a = L.marker(\n",
       "                [40.7302, -73.98069],\n",
       "                {}\n",
       "            ).addTo(map_1e8be83107bf5d8ab5bfbd396b5addcc);\n",
       "        \n",
       "    \n",
       "            var marker_83b82ac973cfe4629e2ff11f6346179c = L.marker(\n",
       "                [40.736218, -73.99597],\n",
       "                {}\n",
       "            ).addTo(map_1e8be83107bf5d8ab5bfbd396b5addcc);\n",
       "        \n",
       "    \n",
       "            var marker_5a0e4fa16c3624cd902b0c0a8423feb5 = L.marker(\n",
       "                [40.71505, -73.958365],\n",
       "                {}\n",
       "            ).addTo(map_1e8be83107bf5d8ab5bfbd396b5addcc);\n",
       "        \n",
       "    \n",
       "            var marker_5fae3274a7e7b3c71963afc28602b610 = L.marker(\n",
       "                [40.6974427, -73.9675197],\n",
       "                {}\n",
       "            ).addTo(map_1e8be83107bf5d8ab5bfbd396b5addcc);\n",
       "        \n",
       "    \n",
       "            var marker_e4f80facdf04bb28c5183eb7714234fc = L.marker(\n",
       "                [40.62207, -74.02591],\n",
       "                {}\n",
       "            ).addTo(map_1e8be83107bf5d8ab5bfbd396b5addcc);\n",
       "        \n",
       "    \n",
       "            var marker_d96579b5d0b5c20077eb1bfb87db6d0d = L.marker(\n",
       "                [40.75225, -73.98061],\n",
       "                {}\n",
       "            ).addTo(map_1e8be83107bf5d8ab5bfbd396b5addcc);\n",
       "        \n",
       "    \n",
       "            var marker_095682943546fed6242542a619f0ee82 = L.marker(\n",
       "                [40.688285, -73.989006],\n",
       "                {}\n",
       "            ).addTo(map_1e8be83107bf5d8ab5bfbd396b5addcc);\n",
       "        \n",
       "    \n",
       "            var marker_72c20e0737e99db07bc85453981d19fd = L.marker(\n",
       "                [40.7334346, -73.9916923],\n",
       "                {}\n",
       "            ).addTo(map_1e8be83107bf5d8ab5bfbd396b5addcc);\n",
       "        \n",
       "    \n",
       "            var marker_21106dec4c06caabfccbca2abffb9761 = L.marker(\n",
       "                [40.74506, -73.99834],\n",
       "                {}\n",
       "            ).addTo(map_1e8be83107bf5d8ab5bfbd396b5addcc);\n",
       "        \n",
       "    \n",
       "            var marker_70d247a33166746cd57d86d332aa10e5 = L.marker(\n",
       "                [40.708152, -74.013864],\n",
       "                {}\n",
       "            ).addTo(map_1e8be83107bf5d8ab5bfbd396b5addcc);\n",
       "        \n",
       "    \n",
       "            var marker_0cd223ae3702d35774a6fe95c6b7d1ac = L.marker(\n",
       "                [40.75334, -73.93716],\n",
       "                {}\n",
       "            ).addTo(map_1e8be83107bf5d8ab5bfbd396b5addcc);\n",
       "        \n",
       "    \n",
       "            var marker_b0f05869ef366d2dbe4c0b93f81e8a94 = L.marker(\n",
       "                [40.7189, -73.956843],\n",
       "                {}\n",
       "            ).addTo(map_1e8be83107bf5d8ab5bfbd396b5addcc);\n",
       "        \n",
       "    \n",
       "            var marker_70e26afd117413f4500fe4d9ced9a252 = L.marker(\n",
       "                [40.92033366683442, -73.86751644723435],\n",
       "                {}\n",
       "            ).addTo(map_1e8be83107bf5d8ab5bfbd396b5addcc);\n",
       "        \n",
       "    \n",
       "            var marker_9ce03dc0adca8934190ae3621529db16 = L.marker(\n",
       "                [40.7084890714263, -73.9610940711639],\n",
       "                {}\n",
       "            ).addTo(map_1e8be83107bf5d8ab5bfbd396b5addcc);\n",
       "        \n",
       "    \n",
       "            var marker_94e84a6dfc267a7731253ac50811ae75 = L.marker(\n",
       "                [40.783841, -73.977569],\n",
       "                {}\n",
       "            ).addTo(map_1e8be83107bf5d8ab5bfbd396b5addcc);\n",
       "        \n",
       "    \n",
       "            var marker_c6c739d1e990a712e59c5c0628c17bac = L.marker(\n",
       "                [40.728949, -73.953999],\n",
       "                {}\n",
       "            ).addTo(map_1e8be83107bf5d8ab5bfbd396b5addcc);\n",
       "        \n",
       "    \n",
       "            var marker_d59cf7b162092c590c42f2d1013221ec = L.marker(\n",
       "                [40.70342863348067, -73.99214637055226],\n",
       "                {}\n",
       "            ).addTo(map_1e8be83107bf5d8ab5bfbd396b5addcc);\n",
       "        \n",
       "    \n",
       "            var marker_c8567aa2ded6bdcdf136857fed7ff973 = L.marker(\n",
       "                [40.712168, -73.955707],\n",
       "                {}\n",
       "            ).addTo(map_1e8be83107bf5d8ab5bfbd396b5addcc);\n",
       "        \n",
       "    \n",
       "            var marker_c1612febdd59164d335e3bd2fa9a92fc = L.marker(\n",
       "                [40.838288, -73.828563],\n",
       "                {}\n",
       "            ).addTo(map_1e8be83107bf5d8ab5bfbd396b5addcc);\n",
       "        \n",
       "    \n",
       "            var marker_af0c6698eb7f736a0ef876a7cd938d33 = L.marker(\n",
       "                [40.9647045, -73.8391204],\n",
       "                {}\n",
       "            ).addTo(map_1e8be83107bf5d8ab5bfbd396b5addcc);\n",
       "        \n",
       "    \n",
       "            var marker_5f8958b1662d39a21e2a05a32387bfbf = L.marker(\n",
       "                [40.6302266718896, -74.1402754933448],\n",
       "                {}\n",
       "            ).addTo(map_1e8be83107bf5d8ab5bfbd396b5addcc);\n",
       "        \n",
       "    \n",
       "            var marker_5f42b81aa559ee98740cd4eeffcb5797 = L.marker(\n",
       "                [40.720799, -74.0091255],\n",
       "                {}\n",
       "            ).addTo(map_1e8be83107bf5d8ab5bfbd396b5addcc);\n",
       "        \n",
       "    \n",
       "            var marker_ae320a94d37496312a800d218274e003 = L.marker(\n",
       "                [40.66163, -73.99334],\n",
       "                {}\n",
       "            ).addTo(map_1e8be83107bf5d8ab5bfbd396b5addcc);\n",
       "        \n",
       "    \n",
       "            var marker_a4e492776310bd3598c393c2d9f6d404 = L.marker(\n",
       "                [40.759494511551836, -73.98673451962638],\n",
       "                {}\n",
       "            ).addTo(map_1e8be83107bf5d8ab5bfbd396b5addcc);\n",
       "        \n",
       "    \n",
       "            var marker_cf6f52cea940d84e62f38e7b66681f35 = L.marker(\n",
       "                [40.7349243164062, -73.9855880737305],\n",
       "                {}\n",
       "            ).addTo(map_1e8be83107bf5d8ab5bfbd396b5addcc);\n",
       "        \n",
       "    \n",
       "            var marker_d8e9b4aa4fe7320fe0d19323c07bcc1f = L.marker(\n",
       "                [40.75674, -73.96431],\n",
       "                {}\n",
       "            ).addTo(map_1e8be83107bf5d8ab5bfbd396b5addcc);\n",
       "        \n",
       "    \n",
       "            var marker_7058b7ab24a970fa77949ed02e260709 = L.marker(\n",
       "                [40.6627403949909, -73.8403776268684],\n",
       "                {}\n",
       "            ).addTo(map_1e8be83107bf5d8ab5bfbd396b5addcc);\n",
       "        \n",
       "    \n",
       "            var marker_d23902bf63e0690477031211b737165e = L.marker(\n",
       "                [40.6941108703613, -73.8500289916992],\n",
       "                {}\n",
       "            ).addTo(map_1e8be83107bf5d8ab5bfbd396b5addcc);\n",
       "        \n",
       "    \n",
       "            var marker_db2382d3c4286d6741527e406058cb88 = L.marker(\n",
       "                [40.7591676767848, -73.9525466887989],\n",
       "                {}\n",
       "            ).addTo(map_1e8be83107bf5d8ab5bfbd396b5addcc);\n",
       "        \n",
       "    \n",
       "            var marker_a60d893f5b5d0bc35ad42bddac6cf459 = L.marker(\n",
       "                [40.7190165, -73.9586248],\n",
       "                {}\n",
       "            ).addTo(map_1e8be83107bf5d8ab5bfbd396b5addcc);\n",
       "        \n",
       "    \n",
       "            var marker_4380c7876ed7d3b19780ad489c6a3c6c = L.marker(\n",
       "                [40.71338, -73.95136],\n",
       "                {}\n",
       "            ).addTo(map_1e8be83107bf5d8ab5bfbd396b5addcc);\n",
       "        \n",
       "    \n",
       "            var marker_7eb16f358a4d58c27caca20e1d096e45 = L.marker(\n",
       "                [40.691219329834, -73.9973449707031],\n",
       "                {}\n",
       "            ).addTo(map_1e8be83107bf5d8ab5bfbd396b5addcc);\n",
       "        \n",
       "    \n",
       "            var marker_fe1d3efb7c3352e49b7443d531018aaa = L.marker(\n",
       "                [40.7372, -73.99919],\n",
       "                {}\n",
       "            ).addTo(map_1e8be83107bf5d8ab5bfbd396b5addcc);\n",
       "        \n",
       "    \n",
       "            var marker_fad7ef3b415370f1ebf5c248976ae05e = L.marker(\n",
       "                [40.7139499, -73.95563],\n",
       "                {}\n",
       "            ).addTo(map_1e8be83107bf5d8ab5bfbd396b5addcc);\n",
       "        \n",
       "    \n",
       "            var marker_b6970e032f61e107ac7602eb17dfd551 = L.marker(\n",
       "                [40.7603523698496, -73.9898819848895],\n",
       "                {}\n",
       "            ).addTo(map_1e8be83107bf5d8ab5bfbd396b5addcc);\n",
       "        \n",
       "    \n",
       "            var marker_948671aaf98d11d25da615f99bf20002 = L.marker(\n",
       "                [40.6837407, -73.9353473],\n",
       "                {}\n",
       "            ).addTo(map_1e8be83107bf5d8ab5bfbd396b5addcc);\n",
       "        \n",
       "    \n",
       "            var marker_b0de02adee5c2d9a6d827d3e2caa3468 = L.marker(\n",
       "                [40.72598, -73.98672],\n",
       "                {}\n",
       "            ).addTo(map_1e8be83107bf5d8ab5bfbd396b5addcc);\n",
       "        \n",
       "    \n",
       "            var marker_9bb72f8d6652bd116de2a606d0479a83 = L.marker(\n",
       "                [40.75214, -73.934339],\n",
       "                {}\n",
       "            ).addTo(map_1e8be83107bf5d8ab5bfbd396b5addcc);\n",
       "        \n",
       "    \n",
       "            var marker_9ce6601276ab8fbcfc102cc761e5013b = L.marker(\n",
       "                [40.70933, -73.95407],\n",
       "                {}\n",
       "            ).addTo(map_1e8be83107bf5d8ab5bfbd396b5addcc);\n",
       "        \n",
       "    \n",
       "            var marker_acd62d7d2bb47bb4a11426e21c89565f = L.marker(\n",
       "                [40.634741, -74.0284259],\n",
       "                {}\n",
       "            ).addTo(map_1e8be83107bf5d8ab5bfbd396b5addcc);\n",
       "        \n",
       "    \n",
       "            var marker_75015393fd91756730b74c5c44752ae8 = L.marker(\n",
       "                [40.7104799, -73.96351],\n",
       "                {}\n",
       "            ).addTo(map_1e8be83107bf5d8ab5bfbd396b5addcc);\n",
       "        \n",
       "    \n",
       "            var marker_00b6ff9babf9000329a14815ceb0ca08 = L.marker(\n",
       "                [40.842018, -74.000809],\n",
       "                {}\n",
       "            ).addTo(map_1e8be83107bf5d8ab5bfbd396b5addcc);\n",
       "        \n",
       "    \n",
       "            var marker_03e089ee217ba941ccc191dc14a6f439 = L.marker(\n",
       "                [40.690706, -73.9952269],\n",
       "                {}\n",
       "            ).addTo(map_1e8be83107bf5d8ab5bfbd396b5addcc);\n",
       "        \n",
       "    \n",
       "            var marker_a66c74df5fee97ff77173476770e1333 = L.marker(\n",
       "                [40.61692, -73.9098],\n",
       "                {}\n",
       "            ).addTo(map_1e8be83107bf5d8ab5bfbd396b5addcc);\n",
       "        \n",
       "    \n",
       "            var marker_ae327b9be314f8268ab3046237c59e04 = L.marker(\n",
       "                [40.729076, -74.001534],\n",
       "                {}\n",
       "            ).addTo(map_1e8be83107bf5d8ab5bfbd396b5addcc);\n",
       "        \n",
       "    \n",
       "            var marker_bd7f749773a7f71405b306f6e48bfeb0 = L.marker(\n",
       "                [40.7983115, -73.9694405],\n",
       "                {}\n",
       "            ).addTo(map_1e8be83107bf5d8ab5bfbd396b5addcc);\n",
       "        \n",
       "    \n",
       "            var marker_cb47f053a99e03c4d20cd143314c1ec9 = L.marker(\n",
       "                [40.7638169909039, -73.9827420901337],\n",
       "                {}\n",
       "            ).addTo(map_1e8be83107bf5d8ab5bfbd396b5addcc);\n",
       "        \n",
       "    \n",
       "            var marker_d21aaf863b21010ea1a633d0b7833f2b = L.marker(\n",
       "                [40.72474, -73.98161],\n",
       "                {}\n",
       "            ).addTo(map_1e8be83107bf5d8ab5bfbd396b5addcc);\n",
       "        \n",
       "    \n",
       "            var marker_7d1dc12a4cf83619d715518fc49a6c6a = L.marker(\n",
       "                [40.72043, -73.98894],\n",
       "                {}\n",
       "            ).addTo(map_1e8be83107bf5d8ab5bfbd396b5addcc);\n",
       "        \n",
       "    \n",
       "            var marker_f01e9cacb6f570fcabce1ac04c928c9e = L.marker(\n",
       "                [40.6882597, -73.9626018],\n",
       "                {}\n",
       "            ).addTo(map_1e8be83107bf5d8ab5bfbd396b5addcc);\n",
       "        \n",
       "    \n",
       "            var marker_ccdbb7a4f4fae2f5cc9e485898400779 = L.marker(\n",
       "                [40.854131, -73.886601],\n",
       "                {}\n",
       "            ).addTo(map_1e8be83107bf5d8ab5bfbd396b5addcc);\n",
       "        \n",
       "    \n",
       "            var marker_2480827b4a5d166ee5e1993c50f3ec45 = L.marker(\n",
       "                [40.711942, -73.999349],\n",
       "                {}\n",
       "            ).addTo(map_1e8be83107bf5d8ab5bfbd396b5addcc);\n",
       "        \n",
       "    \n",
       "            var marker_78bf5bd898d3307d4acbb83da18a2897 = L.marker(\n",
       "                [40.728, -74.0001497],\n",
       "                {}\n",
       "            ).addTo(map_1e8be83107bf5d8ab5bfbd396b5addcc);\n",
       "        \n",
       "    \n",
       "            var marker_d1aaadf5b42bd2a2d82cd608e5fecbff = L.marker(\n",
       "                [40.8029069, -73.9510825],\n",
       "                {}\n",
       "            ).addTo(map_1e8be83107bf5d8ab5bfbd396b5addcc);\n",
       "        \n",
       "    \n",
       "            var marker_b41a39295b45edfd47df42d06f346f72 = L.marker(\n",
       "                [40.72981, -73.98658],\n",
       "                {}\n",
       "            ).addTo(map_1e8be83107bf5d8ab5bfbd396b5addcc);\n",
       "        \n",
       "    \n",
       "            var marker_511930e2a7de4a91f573c0bb7e7bd8d5 = L.marker(\n",
       "                [40.754393, -73.976103],\n",
       "                {}\n",
       "            ).addTo(map_1e8be83107bf5d8ab5bfbd396b5addcc);\n",
       "        \n",
       "    \n",
       "            var marker_0a10b089bb9462be3da21af35bad2359 = L.marker(\n",
       "                [40.7078768, -73.9507711],\n",
       "                {}\n",
       "            ).addTo(map_1e8be83107bf5d8ab5bfbd396b5addcc);\n",
       "        \n",
       "    \n",
       "            var marker_0394d513c2ab7b4c9fda1111f95add53 = L.marker(\n",
       "                [40.773986, -73.908126],\n",
       "                {}\n",
       "            ).addTo(map_1e8be83107bf5d8ab5bfbd396b5addcc);\n",
       "        \n",
       "    \n",
       "            var marker_6eeb423f2cd93806ff793dfe23171ff2 = L.marker(\n",
       "                [40.78329, -73.978],\n",
       "                {}\n",
       "            ).addTo(map_1e8be83107bf5d8ab5bfbd396b5addcc);\n",
       "        \n",
       "    \n",
       "            var marker_20f0f3df53fdd492fece00d3a133f1a1 = L.marker(\n",
       "                [40.75823, -73.98836],\n",
       "                {}\n",
       "            ).addTo(map_1e8be83107bf5d8ab5bfbd396b5addcc);\n",
       "        \n",
       "    \n",
       "            var marker_1d497ac9f5a6fe2b648662aaffb5389d = L.marker(\n",
       "                [40.7033063330116, -73.9916549604523],\n",
       "                {}\n",
       "            ).addTo(map_1e8be83107bf5d8ab5bfbd396b5addcc);\n",
       "        \n",
       "    \n",
       "            var marker_349295d72f415e0a9f182a32d8f60b77 = L.marker(\n",
       "                [40.7057647, -74.0085474],\n",
       "                {}\n",
       "            ).addTo(map_1e8be83107bf5d8ab5bfbd396b5addcc);\n",
       "        \n",
       "    \n",
       "            var marker_3f1a6adfd93fe9213201adc5fbfdf521 = L.marker(\n",
       "                [40.713375, -74.035044],\n",
       "                {}\n",
       "            ).addTo(map_1e8be83107bf5d8ab5bfbd396b5addcc);\n",
       "        \n",
       "    \n",
       "            var marker_d63eec739ab575176dc8ada6d4685ab3 = L.marker(\n",
       "                [40.73829, -74.0054],\n",
       "                {}\n",
       "            ).addTo(map_1e8be83107bf5d8ab5bfbd396b5addcc);\n",
       "        \n",
       "    \n",
       "            var marker_7bd4f73d7976fd0d7f420c86c1f1f7e2 = L.marker(\n",
       "                [40.79508, -74.06316],\n",
       "                {}\n",
       "            ).addTo(map_1e8be83107bf5d8ab5bfbd396b5addcc);\n",
       "        \n",
       "    \n",
       "            var marker_3faa8676c9ea73dde5b695fe02a7b935 = L.marker(\n",
       "                [40.8095922, -73.8804914],\n",
       "                {}\n",
       "            ).addTo(map_1e8be83107bf5d8ab5bfbd396b5addcc);\n",
       "        \n",
       "    \n",
       "            var marker_c8e912e9f4605106b704879346b29da1 = L.marker(\n",
       "                [40.7294, -74.00111],\n",
       "                {}\n",
       "            ).addTo(map_1e8be83107bf5d8ab5bfbd396b5addcc);\n",
       "        \n",
       "    \n",
       "            var marker_1731ad5b20ec848fd707d9f70381688a = L.marker(\n",
       "                [40.71832, -73.99794],\n",
       "                {}\n",
       "            ).addTo(map_1e8be83107bf5d8ab5bfbd396b5addcc);\n",
       "        \n",
       "    \n",
       "            var marker_5473163f32cab5fd2479ca28138a3264 = L.marker(\n",
       "                [40.7238165289164, -73.9504531770945],\n",
       "                {}\n",
       "            ).addTo(map_1e8be83107bf5d8ab5bfbd396b5addcc);\n",
       "        \n",
       "    \n",
       "            var marker_a69bb7e588c6a3d11ca3d1ca09b71939 = L.marker(\n",
       "                [40.75240549384363, -73.9982864846782],\n",
       "                {}\n",
       "            ).addTo(map_1e8be83107bf5d8ab5bfbd396b5addcc);\n",
       "        \n",
       "    \n",
       "            var marker_0c6e4db9e8268c9025d10a5c755e4401 = L.marker(\n",
       "                [40.7569046125342, -73.980516],\n",
       "                {}\n",
       "            ).addTo(map_1e8be83107bf5d8ab5bfbd396b5addcc);\n",
       "        \n",
       "    \n",
       "            var marker_ddb48637bb06e64540d1c523ae5a2574 = L.marker(\n",
       "                [40.7903349463747, -73.946079551947],\n",
       "                {}\n",
       "            ).addTo(map_1e8be83107bf5d8ab5bfbd396b5addcc);\n",
       "        \n",
       "    \n",
       "            var marker_3c648f0d4c54c06e3000360cdb1cf2db = L.marker(\n",
       "                [40.91832, -73.89684],\n",
       "                {}\n",
       "            ).addTo(map_1e8be83107bf5d8ab5bfbd396b5addcc);\n",
       "        \n",
       "    \n",
       "            var marker_73d4d5eab59ecba988fec984f0e55ad5 = L.marker(\n",
       "                [40.754827, -73.935918],\n",
       "                {}\n",
       "            ).addTo(map_1e8be83107bf5d8ab5bfbd396b5addcc);\n",
       "        \n",
       "    \n",
       "            var marker_2efcf89036f9d49d4703336f4e364bd6 = L.marker(\n",
       "                [40.73612, -73.979473],\n",
       "                {}\n",
       "            ).addTo(map_1e8be83107bf5d8ab5bfbd396b5addcc);\n",
       "        \n",
       "    \n",
       "            var marker_5080fa632fd66c24a2a6d06a56487d93 = L.marker(\n",
       "                [40.789283, -73.9487429],\n",
       "                {}\n",
       "            ).addTo(map_1e8be83107bf5d8ab5bfbd396b5addcc);\n",
       "        \n",
       "    \n",
       "            var marker_68fa6daf1c76bc5ac928cbe348df62e9 = L.marker(\n",
       "                [40.77528, -73.94737],\n",
       "                {}\n",
       "            ).addTo(map_1e8be83107bf5d8ab5bfbd396b5addcc);\n",
       "        \n",
       "    \n",
       "            var marker_3368968fba4b8ea82e400f4dc5312006 = L.marker(\n",
       "                [40.733114, -73.9995607],\n",
       "                {}\n",
       "            ).addTo(map_1e8be83107bf5d8ab5bfbd396b5addcc);\n",
       "        \n",
       "&lt;/script&gt;\n",
       "&lt;/html&gt;\" style=\"position:absolute;width:100%;height:100%;left:0;top:0;border:none !important;\" allowfullscreen webkitallowfullscreen mozallowfullscreen></iframe></div></div>"
      ],
      "text/plain": [
       "<folium.folium.Map at 0x7f1dd17ead90>"
      ]
     },
     "execution_count": 23,
     "metadata": {},
     "output_type": "execute_result"
    }
   ],
   "source": [
    "# Replace None with appropriate code\n",
    "\n",
    "# Import the library\n",
    "import folium\n",
    "\n",
    "# Set up center latitude and longitude (\n",
    "center_lat = 40.72308755605564\n",
    "center_long = -73.99453001177575\n",
    "\n",
    "# Initialize map with center lat and long\n",
    "yelp_map = folium.Map([center_lat, center_long], zoom_start=13)\n",
    "\n",
    "# Adjust this limit to see more or fewer businesses\n",
    "limit=100\n",
    "\n",
    "for business in full_dataset[:limit]:\n",
    "    # Extract information about business\n",
    "    #print(business.keys())\n",
    "    lat = business['latitude']\n",
    "    long = business['longitude']\n",
    "    name = business['name']\n",
    "    rating = business['rating']\n",
    "    price = business['price']\n",
    "    details = \"{}\\nPrice: {} Rating:{}\".format(name,price,rating)\n",
    "    \n",
    "    # Create popup with relevant details\n",
    "    popup_text = \"Latitude: {}, Longitude: {}\".format(lat,long)\n",
    "    folium.Popup(popup_text, parse_html=True)\n",
    "    \n",
    "    # Create marker with relevant lat/long and popup\n",
    "    marker = folium.Marker(location=[lat, long])\n",
    "    \n",
    "    hDbjdKUfyzFAkUO6kfLn7pC21YFU_17V73rfJjqy5EE73exf1zbYce_dx6L56vKlo_ykxQldd7cjODOhVQ0L3RpLRJQrJ348xALcTuHcLGJGY0VbHs3OooNDfM5aZHYxmarker.add_to(yelp_map)\n",
    "    \n",
    "yelp_map"
   ]
  },
  {
   "cell_type": "markdown",
   "metadata": {},
   "source": [
    "## Summary\n",
    "\n",
    "Nice work! In this lab, you've made multiple API calls to Yelp in order to paginate through a results set, performing some basic exploratory analysis and then creating a nice interactive map to display the results using Folium! Well done!"
   ]
  }
 ],
 "metadata": {
  "kernelspec": {
   "display_name": "saturn (Python 3)",
   "language": "python",
   "name": "python3"
  },
  "language_info": {
   "codemirror_mode": {
    "name": "ipython",
    "version": 3
   },
   "file_extension": ".py",
   "mimetype": "text/x-python",
   "name": "python",
   "nbconvert_exporter": "python",
   "pygments_lexer": "ipython3",
   "version": "3.9.15"
  },
  "toc": {
   "base_numbering": 1,
   "nav_menu": {},
   "number_sections": true,
   "sideBar": true,
   "skip_h1_title": false,
   "title_cell": "Table of Contents",
   "title_sidebar": "Contents",
   "toc_cell": false,
   "toc_position": {},
   "toc_section_display": true,
   "toc_window_display": false
  }
 },
 "nbformat": 4,
 "nbformat_minor": 4
}
